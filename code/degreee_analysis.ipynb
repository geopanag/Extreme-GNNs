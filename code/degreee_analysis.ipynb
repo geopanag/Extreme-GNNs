{
 "cells": [
  {
   "cell_type": "markdown",
   "metadata": {},
   "source": [
    "The purpose of this notebook is to start a quick analysis of the degrees for the graphs studied."
   ]
  },
  {
   "cell_type": "markdown",
   "metadata": {},
   "source": [
    "# Packages & Utils\n",
    "The order and transform functions are set to standardize the degree distribution into a Pareto distribution, in order to get the extreme nodes. We find a threshold based on a perentile on the Pareto standardized variable."
   ]
  },
  {
   "cell_type": "code",
   "execution_count": 1,
   "metadata": {
    "collapsed": true
   },
   "outputs": [],
   "source": [
    "import numpy as np\n",
    "import os \n",
    "rnd_seed = 42\n",
    "\n",
    "np.random.seed(rnd_seed)"
   ]
  },
  {
   "cell_type": "code",
   "execution_count": 2,
   "metadata": {
    "collapsed": true
   },
   "outputs": [],
   "source": [
    "def order(X):\n",
    "    \"\"\"Return the order statistic of each sample in X, features by features\n",
    "    \"\"\"\n",
    "    n, d = np.shape(X)\n",
    "    R = np.sort(X, axis=0)\n",
    "    return R\n",
    "\n",
    "\n",
    "def transform_(R, x):\n",
    "    \"\"\"Common transformation of each marginal in standard Pareto\n",
    "    Parameters\n",
    "    ----------\n",
    "    R : numpy array\n",
    "        The order of training data. Used to transform new data.\n",
    "    x : numpy array with shape (n, d)\n",
    "        the data to transform (sample by sample, independently) according to\n",
    "        training transform\n",
    "    Returns\n",
    "    -------\n",
    "    a : numpy array with shape (n, d)\n",
    "        transformation of x\n",
    "    \"\"\"\n",
    "    n, d = np.shape(x)\n",
    "    n_R = np.shape(R)[0]\n",
    "    a = np.zeros((n, d))\n",
    "    for i in range(d):\n",
    "        a[:, i] = np.searchsorted(R[:, i], x[:, i]) / float(n_R + 1)\n",
    "    return 1. / (1-a)"
   ]
  },
  {
   "cell_type": "markdown",
   "metadata": {},
   "source": [
    "# Analysis"
   ]
  },
  {
   "cell_type": "code",
   "execution_count": 3,
   "metadata": {
    "collapsed": true
   },
   "outputs": [],
   "source": [
    "dataset_dict = dict()"
   ]
  },
  {
   "cell_type": "code",
   "execution_count": 4,
   "metadata": {
    "collapsed": false
   },
   "outputs": [],
   "source": [
    "percentile = 90\n",
    "for file_name in os.listdir(\"./degrees/\"):\n",
    "    table = np.loadtxt('./degrees/'+file_name, delimiter=\",\")\n",
    "    V = transform_(order(table[:,1].reshape(-1,1)), table[:,1].reshape(-1,1))\n",
    "    dataset_dict[file_name] = np.percentile(V, q=percentile)"
   ]
  },
  {
   "cell_type": "code",
   "execution_count": 5,
   "metadata": {
    "collapsed": false,
    "scrolled": true
   },
   "outputs": [
    {
     "data": {
      "text/plain": [
       "{'deg_BlogCatalog.txt': 9.4103225806451576,\n",
       " 'deg_CA-AstroPh.txt': 9.2915384615384653,\n",
       " 'deg_CA-HepPh.txt': 9.415806451612907,\n",
       " 'deg_Flickr.txt': 9.5,\n",
       " 'deg_Wiki-Vote.txt': 9.1800586510264015,\n",
       " 'deg_cora.txt': 6.8399999999999981,\n",
       " 'deg_mag.txt': 9.8093505039193811}"
      ]
     },
     "execution_count": 5,
     "metadata": {},
     "output_type": "execute_result"
    }
   ],
   "source": [
    "dataset_dict"
   ]
  },
  {
   "cell_type": "markdown",
   "metadata": {},
   "source": [
    "The dictionnary above provides thresholds for each dataset based on the quantile on the Pareto standardized variable. For a new node $n^{new}$, one can assess if $n^{new}$ is extreme if the Pareto standardized degree of $n^{new}$ is greater than the threshold set for this dataset."
   ]
  }
 ],
 "metadata": {
  "anaconda-cloud": {},
  "kernelspec": {
   "display_name": "Python [conda env:Anaconda3]",
   "language": "python",
   "name": "conda-env-Anaconda3-py"
  },
  "language_info": {
   "codemirror_mode": {
    "name": "ipython",
    "version": 3
   },
   "file_extension": ".py",
   "mimetype": "text/x-python",
   "name": "python",
   "nbconvert_exporter": "python",
   "pygments_lexer": "ipython3",
   "version": "3.5.2"
  }
 },
 "nbformat": 4,
 "nbformat_minor": 1
}
